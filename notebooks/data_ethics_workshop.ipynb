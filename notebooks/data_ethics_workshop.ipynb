{
  "nbformat": 4,
  "nbformat_minor": 0,
  "metadata": {
    "colab": {
      "provenance": [],
      "toc_visible": true,
      "collapsed_sections": []
    },
    "kernelspec": {
      "name": "python3",
      "display_name": "Python 3"
    },
    "language_info": {
      "name": "python"
    }
  },
  "cells": [
    {
      "cell_type": "markdown",
      "source": [
        "#  <span style=\"color:orange\">Data Ethics using Fairlearn </span>"
      ],
      "metadata": {
        "id": "ZivvysQFBtTU"
      }
    },
    {
      "cell_type": "markdown",
      "source": [
        "#IMPORTANT INSTRUCTIONS\n",
        "Please make a copy of this notebook, upload it into your own google drive and [![Open In Colab](https://colab.research.google.com/assets/colab-badge.svg)](https://colab.research.google.com/drive/1gc1AAkYFDjHUk-PMVLZosxUk__4anNqQ#scrollTo=wsCySQTKB603)"
      ],
      "metadata": {
        "id": "wsCySQTKB603"
      }
    },
    {
      "cell_type": "markdown",
      "source": [
        "\n",
        "# 1 Tutorial Objective\n",
        "This tutorial will show you how to assess and mitigate fairness in machine learning models.\n",
        "\n",
        "This tutorial is mostly based on combining various resources on the [Fairlearn website](https://fairlearn.org/).\n",
        "\n",
        "This is not an exhaustive tutorial on how to use Fairlearn, but serves more as an introduction to ethics in machine learning and Fairlearn. Be aware that using Fairlearn, or any similar library or techniques, doesn't guarantee that your models are fair! Always know what you're modelling and what impact it can have on the end user!\n",
        "\n",
        "This notebook is merely to demonstrate how to do an Fairness assessment and mitigation.\n",
        "\n",
        "We use Colab for the ease of the demo, we do not advise to build your models within a notebooks. The goal is to have a visual easy to follow tutorial to best understand the different steps Fairness assesment and potential mitigation.\n",
        "\n",
        "\n",
        "![Maintainer](https://dataroots.io/maintained-rnd.svg)"
      ],
      "metadata": {
        "id": "BcICgeSnCG8i"
      }
    },
    {
      "cell_type": "markdown",
      "source": [
        "## 1.1 Pre-Requisites\n",
        "This tutorial is tested using Python 3.7.15."
      ],
      "metadata": {
        "id": "sqg2cRTvFpMi"
      }
    },
    {
      "cell_type": "code",
      "source": [
        "!python --version"
      ],
      "metadata": {
        "colab": {
          "base_uri": "https://localhost:8080/"
        },
        "id": "aRSghwJ3FqEv",
        "outputId": "f9ef27e7-c562-4225-fa58-e46241aceda2"
      },
      "execution_count": null,
      "outputs": [
        {
          "output_type": "stream",
          "name": "stdout",
          "text": [
            "Python 3.7.15\n"
          ]
        }
      ]
    },
    {
      "cell_type": "markdown",
      "source": [
        "## 1.2 Installing packages\n",
        "\n",
        "We need to install the right version of all the python packages."
      ],
      "metadata": {
        "id": "CqFiJQvFF2LK"
      }
    },
    {
      "cell_type": "code",
      "source": [
        "!printf 'fairlearn \\npandas==1.3.5 \\nxlrd==2.0.1 ' > requirements.txt\n",
        "#!printf 'fairlearn' > requirements.txt"
      ],
      "metadata": {
        "id": "dIMbkWtoFtZx"
      },
      "execution_count": 1,
      "outputs": []
    },
    {
      "cell_type": "code",
      "source": [
        "!pip install -q -r requirements.txt"
      ],
      "metadata": {
        "colab": {
          "base_uri": "https://localhost:8080/"
        },
        "id": "UK46wHGvJd-U",
        "outputId": "6e5280f1-ed19-4349-a3da-ef7c73c76406"
      },
      "execution_count": 2,
      "outputs": [
        {
          "output_type": "stream",
          "name": "stdout",
          "text": [
            "\u001b[K     |████████████████████████████████| 177 kB 5.1 MB/s \n",
            "\u001b[K     |████████████████████████████████| 96 kB 5.4 MB/s \n",
            "\u001b[?25h"
          ]
        }
      ]
    },
    {
      "cell_type": "markdown",
      "source": [
        "# 2 Dataset for the Tutorial"
      ],
      "metadata": {
        "id": "triuZOhUHK0o"
      }
    },
    {
      "cell_type": "markdown",
      "source": [
        "For this tutorial we will be using the same the dataset from UCI called *Default of Credit Card Clients* Dataset. In the next steps we will explore this dataset.\n",
        "\n",
        "\n",
        "#### Dataset Acknowledgements:\n",
        "Lichman, M. (2013). UCI Machine Learning Repository. Irvine, CA: University of California, School of Information and Computer Science.\n",
        "\n",
        "The original dataset and data dictionary can be __[found here](https://archive.ics.uci.edu/ml/datasets/default+of+credit+card+clients)__ at the UCI Machine Learning Repository.\n",
        "\n",
        "We'll go over the dataset in the next section and explain the data. "
      ],
      "metadata": {
        "id": "MiHLHxGQHCDO"
      }
    },
    {
      "cell_type": "markdown",
      "source": [
        "# 3 Getting and Understanding Data"
      ],
      "metadata": {
        "id": "ZS9Q3h6tItB1"
      }
    },
    {
      "cell_type": "markdown",
      "source": [
        "We will first get the data from the UCI website and inspect the first rows using the Pandas library."
      ],
      "metadata": {
        "id": "6T1_HbAeI5q7"
      }
    },
    {
      "cell_type": "code",
      "source": [
        "import pandas as pd \n",
        "import matplotlib.pyplot as plt\n",
        "import numpy as np\n",
        "\n",
        "# Modeling \n",
        "from sklearn.model_selection import train_test_split\n",
        "import lightgbm as lgb\n",
        "from sklearn.calibration import CalibratedClassifierCV\n",
        "\n",
        "# Fairlearn algorithms and utils\n",
        "from fairlearn.postprocessing import ThresholdOptimizer\n",
        "from fairlearn.reductions import GridSearch, EqualizedOdds\n",
        "\n",
        "# Metrics\n",
        "\n",
        "from fairlearn.metrics import (\n",
        "    MetricFrame,\n",
        "    selection_rate, demographic_parity_difference, demographic_parity_ratio,\n",
        "    false_positive_rate, false_negative_rate,\n",
        "    false_positive_rate_difference, false_negative_rate_difference,\n",
        "    equalized_odds_difference)\n",
        "from sklearn.metrics import balanced_accuracy_score, roc_auc_score\n",
        "\n",
        "\n",
        "df = pd.read_excel('https://archive.ics.uci.edu/ml/machine-learning-databases/00350/default%20of%20credit%20card%20clients.xls', header=1, index_col=0)\n",
        "\n",
        "print(df.head())"
      ],
      "metadata": {
        "colab": {
          "base_uri": "https://localhost:8080/"
        },
        "id": "EHKQyC6DGfe2",
        "outputId": "a8e3ab84-dbbb-402f-96b5-7c8adaa181a2"
      },
      "execution_count": 134,
      "outputs": [
        {
          "output_type": "stream",
          "name": "stdout",
          "text": [
            "    LIMIT_BAL  SEX  EDUCATION  MARRIAGE  AGE  PAY_0  PAY_2  PAY_3  PAY_4  \\\n",
            "ID                                                                         \n",
            "1       20000    2          2         1   24      2      2     -1     -1   \n",
            "2      120000    2          2         2   26     -1      2      0      0   \n",
            "3       90000    2          2         2   34      0      0      0      0   \n",
            "4       50000    2          2         1   37      0      0      0      0   \n",
            "5       50000    1          2         1   57     -1      0     -1      0   \n",
            "\n",
            "    PAY_5  ...  BILL_AMT4  BILL_AMT5  BILL_AMT6  PAY_AMT1  PAY_AMT2  PAY_AMT3  \\\n",
            "ID         ...                                                                  \n",
            "1      -2  ...          0          0          0         0       689         0   \n",
            "2       0  ...       3272       3455       3261         0      1000      1000   \n",
            "3       0  ...      14331      14948      15549      1518      1500      1000   \n",
            "4       0  ...      28314      28959      29547      2000      2019      1200   \n",
            "5       0  ...      20940      19146      19131      2000     36681     10000   \n",
            "\n",
            "    PAY_AMT4  PAY_AMT5  PAY_AMT6  default payment next month  \n",
            "ID                                                            \n",
            "1          0         0         0                           1  \n",
            "2       1000         0      2000                           1  \n",
            "3       1000      1000      5000                           0  \n",
            "4       1100      1069      1000                           0  \n",
            "5       9000       689       679                           0  \n",
            "\n",
            "[5 rows x 24 columns]\n"
          ]
        }
      ]
    },
    {
      "cell_type": "markdown",
      "source": [
        "### Dataset features "
      ],
      "metadata": {
        "id": "4i6yrq15QyBw"
      }
    },
    {
      "cell_type": "markdown",
      "source": [
        "This dataset contains information on default payments, demographic factors, credit data, payment history, and billing statements of credit card clients in Taiwan from April 2005 to September 2005. There are 25 features. Short descriptions of each column are as follows:\n",
        "\n",
        "- **ID**: ID of each client\n",
        "- **LIMIT_BAL**: Amount of given credit in NT dollars (includes individual and family/supplementary credit)\n",
        "- **SEX**: Gender (1=male, 2=female)\n",
        "- **EDUCATION**: (1=graduate school, 2=university, 3=high school, 4=others, 5=unknown, 6=unknown)\n",
        "- **MARRIAGE**: Marital status (1=married, 2=single, 3=others)\n",
        "- **AGE**: Age in years\n",
        "- **PAY_0 to PAY_6**: Repayment status by n months ago (PAY_0 = last month ... PAY_6 = 6 months ago) (Labels: -1=pay duly, 1=payment delay for one month, 2=payment delay for two months, ... 8=payment delay for eight months, 9=payment delay for nine months and above)\n",
        "- **BILL_AMT1 to BILL_AMT6**: Amount of bill statement by n months ago ( BILL_AMT1 = last_month .. BILL_AMT6 = 6 months ago)\n",
        "- **PAY_AMT1 to PAY_AMT6**: Amount of payment by n months ago ( BILL_AMT1 = last_month .. BILL_AMT6 = 6 months ago)\n",
        "- **default**: Default payment (1=yes, 0=no) `Target Column`"
      ],
      "metadata": {
        "id": "EIFYS5CMQ6H7"
      }
    },
    {
      "cell_type": "markdown",
      "source": [
        "## Manipulating data to introduce artificial sensitivity\n"
      ],
      "metadata": {
        "id": "qBUYcpa_u273"
      }
    },
    {
      "cell_type": "markdown",
      "source": [
        "Here we introduce some synthetic signal in the data that makes the outcome variable highly correlated with the \"female\" group. We will then use assessment techniques to see if we can indeed spot the influence of this manipulation, and mitigate our model accordingly."
      ],
      "metadata": {
        "id": "ELfiotojvAeI"
      }
    },
    {
      "cell_type": "code",
      "source": [
        "# Extract the sensitive feature\n",
        "sensitive = df[\"SEX\"]\n",
        "sensitive_str = A.map({ 2:\"female\", 1:\"male\"})\n",
        "# Extract the target\n",
        "Y = df[\"default payment next month\"]\n",
        "categorical_features = ['EDUCATION', 'MARRIAGE','PAY_0', 'PAY_2', 'PAY_3', 'PAY_4', 'PAY_5', 'PAY_6']\n",
        "for col in categorical_features:\n",
        "    df[col] = df[col].astype('category')"
      ],
      "metadata": {
        "id": "rZIqOzVsQ6mE"
      },
      "execution_count": 135,
      "outputs": []
    },
    {
      "cell_type": "code",
      "source": [
        "dist_scale = 0.5\n",
        "np.random.seed(42)\n",
        "# Make 'LIMIT_BAL' informative of the target\n",
        "df['LIMIT_BAL'] = Y + np.random.normal(scale=dist_scale, size=df.shape[0])\n",
        "# But then make it uninformative for the male clients\n",
        "df.loc[sensitive==1, 'LIMIT_BAL'] = np.random.normal(scale=dist_scale, size=df[sensitive==1].shape[0])"
      ],
      "metadata": {
        "id": "uDhAtogFrvrg"
      },
      "execution_count": 136,
      "outputs": []
    },
    {
      "cell_type": "code",
      "source": [
        "fig, (ax1, ax2) = plt.subplots(ncols=2, figsize=(10, 4), sharey=True)\n",
        "# Plot distribution of LIMIT_BAL for men\n",
        "df['LIMIT_BAL'][(sensitive==1) & (Y==0)].plot(kind='kde', label=\"Payment on time\", ax=ax1, \n",
        "                                           title=\"LIMIT_BAL distribution for \\\"male\\\" group\")\n",
        "df['LIMIT_BAL'][(sensitive==1) & (Y==1)].plot(kind='kde', label=\"Default\", ax=ax1)\n",
        "# Plot distribution of LIMIT_BAL for women\n",
        "df['LIMIT_BAL'][(sensitive==2) & (Y==0)].plot(kind='kde', label=\"Payment on time\", ax=ax2, \n",
        "                                           legend=True, title=\"LIMIT_BAL distribution for \\\"female\\\" group\")\n",
        "df['LIMIT_BAL'][(sensitive==2) & (Y==1)].plot(kind='kde', label=\"Default\", ax=ax2, \n",
        "                                           legend=True).legend(bbox_to_anchor=(1.6, 1))\n",
        "plt.show()"
      ],
      "metadata": {
        "colab": {
          "base_uri": "https://localhost:8080/",
          "height": 281
        },
        "id": "Phez2D2er_aB",
        "outputId": "8b65cfc4-7ff6-4adf-9a28-5713c9cfd616"
      },
      "execution_count": 137,
      "outputs": [
        {
          "output_type": "display_data",
          "data": {
            "text/plain": [
              "<Figure size 720x288 with 2 Axes>"
            ],
            "image/png": "[encoded data removed]"
          },
          "metadata": {
            "needs_background": "light"
          }
        }
      ]
    },
    {
      "cell_type": "markdown",
      "source": [
        "## Prepare data for training a model"
      ],
      "metadata": {
        "id": "wOUPr-o4ymhw"
      }
    },
    {
      "cell_type": "code",
      "source": [
        "# Train-test split\n",
        "\n",
        "df_train, df_test, Y_train, Y_test, sensitive_train, sensitive_test, sensitive_str_train, sensitive_str_test = train_test_split(\n",
        "    df.drop(columns=['SEX', 'default payment next month']), \n",
        "    Y, \n",
        "    sensitive, \n",
        "    sensitive_str,\n",
        "    test_size = 0.3, \n",
        "    random_state=42,\n",
        "    stratify=Y)"
      ],
      "metadata": {
        "id": "3-_tSvyHuQgz"
      },
      "execution_count": 138,
      "outputs": []
    },
    {
      "cell_type": "markdown",
      "source": [
        "# 4 Training a Model"
      ],
      "metadata": {
        "id": "t51D4KYP0P8s"
      }
    },
    {
      "cell_type": "markdown",
      "source": [
        "We will now train a model on the data. The aim here is to illustrate that Fairlearn can pick up on the manipulation we introduced in the data."
      ],
      "metadata": {
        "id": "PlJCFJHM0YUF"
      }
    },
    {
      "cell_type": "code",
      "source": [
        "lgb_params = {\n",
        "    'objective' : 'binary',\n",
        "    'metric' : 'auc',\n",
        "    'learning_rate': 0.03,\n",
        "    'num_leaves' : 10,\n",
        "    'max_depth' : 3\n",
        "}\n",
        "model = lgb.LGBMClassifier(**lgb_params)\n",
        "model.fit(df_train, Y_train)"
      ],
      "metadata": {
        "colab": {
          "base_uri": "https://localhost:8080/"
        },
        "id": "WSdjqBFq0Syw",
        "outputId": "9732fce4-b28a-44c1-b628-a5befbd0c5c0"
      },
      "execution_count": 139,
      "outputs": [
        {
          "output_type": "execute_result",
          "data": {
            "text/plain": [
              "LGBMClassifier(learning_rate=0.03, max_depth=3, metric='auc', num_leaves=10,\n",
              "               objective='binary')"
            ]
          },
          "metadata": {},
          "execution_count": 139
        }
      ]
    },
    {
      "cell_type": "code",
      "source": [
        "# Predictions (0 or 1) on test set\n",
        "test_preds = (test_scores >= np.mean(Y_train)) * 1"
      ],
      "metadata": {
        "id": "-xQu-BPD1vws"
      },
      "execution_count": 140,
      "outputs": []
    },
    {
      "cell_type": "markdown",
      "source": [
        "## Looking at model performance and feature importance"
      ],
      "metadata": {
        "id": "zH5kq1m_3pGY"
      }
    },
    {
      "cell_type": "code",
      "source": [
        "# Train AUC\n",
        "print(\"roc_auc:\", roc_auc_score(Y_train, model.predict_proba(df_train)[:, 1]))\n",
        "\n",
        "# LightGBM feature importance \n",
        "lgb.plot_importance(model, height=0.6, title=\"Features importance\", importance_type=\"gain\", max_num_features=15) \n",
        "plt.show()"
      ],
      "metadata": {
        "colab": {
          "base_uri": "https://localhost:8080/",
          "height": 313
        },
        "id": "OmC7SHO42l9F",
        "outputId": "8a2a7c81-bd21-4a09-d9ae-8ffcd2e6867a"
      },
      "execution_count": 141,
      "outputs": [
        {
          "output_type": "stream",
          "name": "stdout",
          "text": [
            "roc_auc: 0.8597825493894053\n"
          ]
        },
        {
          "output_type": "display_data",
          "data": {
            "text/plain": [
              "<Figure size 432x288 with 1 Axes>"
            ],
            "image/png": "[encoded data removed]"
          },
          "metadata": {
            "needs_background": "light"
          }
        }
      ]
    },
    {
      "cell_type": "markdown",
      "source": [
        "Here we clearly see that LIMIT_BAL is the most important feature. Which is expected because we added some artifical signal. Important here is that we added that signal for only one group of the senstive feature (SEX). This means the model is performing really well for the female group, but is doing nothing for the male group. "
      ],
      "metadata": {
        "id": "HdWK680-3813"
      }
    },
    {
      "cell_type": "markdown",
      "source": [
        "# 5 Using Fairlearn"
      ],
      "metadata": {
        "id": "KOoKQVgY4ebS"
      }
    },
    {
      "cell_type": "markdown",
      "source": [
        "Fairlearn comes with some functions that automatically calculate and display relevant metrics to assess the fairness of your model. It also allows to see the result for all levels of the sensitive features, like in the example below."
      ],
      "metadata": {
        "id": "tTIRIf9eA-dw"
      }
    },
    {
      "cell_type": "markdown",
      "source": [
        "## 5.1 Assessment"
      ],
      "metadata": {
        "id": "S7ypIHNVAiSS"
      }
    },
    {
      "cell_type": "code",
      "source": [
        "mf = MetricFrame({\n",
        "    'FPR': false_positive_rate,\n",
        "    'FNR': false_negative_rate},\n",
        "    Y_test, test_preds, sensitive_features=sensitive_str_test)\n",
        "\n",
        "mf.by_group"
      ],
      "metadata": {
        "colab": {
          "base_uri": "https://localhost:8080/",
          "height": 199
        },
        "id": "4yL40uCq3lXD",
        "outputId": "1073f81c-ec17-4943-f0cb-d885043cdf36"
      },
      "execution_count": 142,
      "outputs": [
        {
          "output_type": "stream",
          "name": "stderr",
          "text": [
            "/usr/local/lib/python3.7/dist-packages/fairlearn/metrics/_metric_frame.py:67: FutureWarning: You have provided 'metrics', 'y_true', 'y_pred' as positional arguments. Please pass them as keyword arguments. From version 0.10.0 passing them as positional arguments will result in an error.\n",
            "  FutureWarning)\n"
          ]
        },
        {
          "output_type": "execute_result",
          "data": {
            "text/plain": [
              "             FPR       FNR\n",
              "SEX                       \n",
              "female  0.155959  0.138475\n",
              "male    0.162551  0.514118"
            ],
            "text/html": [
              "\n",
              "  <div id=\"df-76850bee-bc07-45c5-9da9-707139109253\">\n",
              "    <div class=\"colab-df-container\">\n",
              "      <div>\n",
              "<style scoped>\n",
              "    .dataframe tbody tr th:only-of-type {\n",
              "        vertical-align: middle;\n",
              "    }\n",
              "\n",
              "    .dataframe tbody tr th {\n",
              "        vertical-align: top;\n",
              "    }\n",
              "\n",
              "    .dataframe thead th {\n",
              "        text-align: right;\n",
              "    }\n",
              "</style>\n",
              "<table border=\"1\" class=\"dataframe\">\n",
              "  <thead>\n",
              "    <tr style=\"text-align: right;\">\n",
              "      <th></th>\n",
              "      <th>FPR</th>\n",
              "      <th>FNR</th>\n",
              "    </tr>\n",
              "    <tr>\n",
              "      <th>SEX</th>\n",
              "      <th></th>\n",
              "      <th></th>\n",
              "    </tr>\n",
              "  </thead>\n",
              "  <tbody>\n",
              "    <tr>\n",
              "      <th>female</th>\n",
              "      <td>0.155959</td>\n",
              "      <td>0.138475</td>\n",
              "    </tr>\n",
              "    <tr>\n",
              "      <th>male</th>\n",
              "      <td>0.162551</td>\n",
              "      <td>0.514118</td>\n",
              "    </tr>\n",
              "  </tbody>\n",
              "</table>\n",
              "</div>\n",
              "      <button class=\"colab-df-convert\" onclick=\"convertToInteractive('df-76850bee-bc07-45c5-9da9-707139109253')\"\n",
              "              title=\"Convert this dataframe to an interactive table.\"\n",
              "              style=\"display:none;\">\n",
              "        \n",
              "  <svg xmlns=\"http://www.w3.org/2000/svg\" height=\"24px\"viewBox=\"0 0 24 24\"\n",
              "       width=\"24px\">\n",
              "    <path d=\"M0 0h24v24H0V0z\" fill=\"none\"/>\n",
              "    <path d=\"M18.56 5.44l.94 2.06.94-2.06 2.06-.94-2.06-.94-.94-2.06-.94 2.06-2.06.94zm-11 1L8.5 8.5l.94-2.06 2.06-.94-2.06-.94L8.5 2.5l-.94 2.06-2.06.94zm10 10l.94 2.06.94-2.06 2.06-.94-2.06-.94-.94-2.06-.94 2.06-2.06.94z\"/><path d=\"M17.41 7.96l-1.37-1.37c-.4-.4-.92-.59-1.43-.59-.52 0-1.04.2-1.43.59L10.3 9.45l-7.72 7.72c-.78.78-.78 2.05 0 2.83L4 21.41c.39.39.9.59 1.41.59.51 0 1.02-.2 1.41-.59l7.78-7.78 2.81-2.81c.8-.78.8-2.07 0-2.86zM5.41 20L4 18.59l7.72-7.72 1.47 1.35L5.41 20z\"/>\n",
              "  </svg>\n",
              "      </button>\n",
              "      \n",
              "  <style>\n",
              "    .colab-df-container {\n",
              "      display:flex;\n",
              "      flex-wrap:wrap;\n",
              "      gap: 12px;\n",
              "    }\n",
              "\n",
              "    .colab-df-convert {\n",
              "      background-color: #E8F0FE;\n",
              "      border: none;\n",
              "      border-radius: 50%;\n",
              "      cursor: pointer;\n",
              "      display: none;\n",
              "      fill: #1967D2;\n",
              "      height: 32px;\n",
              "      padding: 0 0 0 0;\n",
              "      width: 32px;\n",
              "    }\n",
              "\n",
              "    .colab-df-convert:hover {\n",
              "      background-color: #E2EBFA;\n",
              "      box-shadow: 0px 1px 2px rgba(60, 64, 67, 0.3), 0px 1px 3px 1px rgba(60, 64, 67, 0.15);\n",
              "      fill: #174EA6;\n",
              "    }\n",
              "\n",
              "    [theme=dark] .colab-df-convert {\n",
              "      background-color: #3B4455;\n",
              "      fill: #D2E3FC;\n",
              "    }\n",
              "\n",
              "    [theme=dark] .colab-df-convert:hover {\n",
              "      background-color: #434B5C;\n",
              "      box-shadow: 0px 1px 3px 1px rgba(0, 0, 0, 0.15);\n",
              "      filter: drop-shadow(0px 1px 2px rgba(0, 0, 0, 0.3));\n",
              "      fill: #FFFFFF;\n",
              "    }\n",
              "  </style>\n",
              "\n",
              "      <script>\n",
              "        const buttonEl =\n",
              "          document.querySelector('#df-76850bee-bc07-45c5-9da9-707139109253 button.colab-df-convert');\n",
              "        buttonEl.style.display =\n",
              "          google.colab.kernel.accessAllowed ? 'block' : 'none';\n",
              "\n",
              "        async function convertToInteractive(key) {\n",
              "          const element = document.querySelector('#df-76850bee-bc07-45c5-9da9-707139109253');\n",
              "          const dataTable =\n",
              "            await google.colab.kernel.invokeFunction('convertToInteractive',\n",
              "                                                     [key], {});\n",
              "          if (!dataTable) return;\n",
              "\n",
              "          const docLinkHtml = 'Like what you see? Visit the ' +\n",
              "            '<a target=\"_blank\" href=https://colab.research.google.com/notebooks/data_table.ipynb>data table notebook</a>'\n",
              "            + ' to learn more about interactive tables.';\n",
              "          element.innerHTML = '';\n",
              "          dataTable['output_type'] = 'display_data';\n",
              "          await google.colab.output.renderOutput(dataTable, element);\n",
              "          const docLink = document.createElement('div');\n",
              "          docLink.innerHTML = docLinkHtml;\n",
              "          element.appendChild(docLink);\n",
              "        }\n",
              "      </script>\n",
              "    </div>\n",
              "  </div>\n",
              "  "
            ]
          },
          "metadata": {},
          "execution_count": 142
        }
      ]
    },
    {
      "cell_type": "markdown",
      "source": [
        "We see that false positives and false negatives are more common for the Male group. The function below calculates some of the key assessment metrics. A good starting point for more detail on these can be found [here](https://fairlearn.org/v0.8/user_guide/assessment/common_fairness_metrics.html#equalized-odds)."
      ],
      "metadata": {
        "id": "u3eOdIDfBjEM"
      }
    },
    {
      "cell_type": "code",
      "source": [
        "def get_metrics_df(models_dict, y_true, group):\n",
        "    metrics_dict = {\n",
        "        \"Overall selection rate\": (\n",
        "            lambda x: selection_rate(y_true, x), True),\n",
        "        \"Demographic parity difference\": (\n",
        "            lambda x: demographic_parity_difference(y_true, x, sensitive_features=group), True),\n",
        "        \"Demographic parity ratio\": (\n",
        "            lambda x: demographic_parity_ratio(y_true, x, sensitive_features=group), True),\n",
        "        \"------\": (lambda x: \"\", True),\n",
        "        \"Overall balanced error rate\": (\n",
        "            lambda x: 1-balanced_accuracy_score(y_true, x), True),\n",
        "        \"Balanced error rate difference\": (\n",
        "            lambda x: MetricFrame(metrics=balanced_accuracy_score, y_true=y_true, y_pred=x, sensitive_features=group).difference(method='between_groups'), True),\n",
        "        \" ------\": (lambda x: \"\", True),\n",
        "        \"False positive rate difference\": (\n",
        "            lambda x: false_positive_rate_difference(y_true, x, sensitive_features=group), True),\n",
        "        \"False negative rate difference\": (\n",
        "            lambda x: false_negative_rate_difference(y_true, x, sensitive_features=group), True),\n",
        "        \"Equalized odds difference\": (\n",
        "            lambda x: equalized_odds_difference(y_true, x, sensitive_features=group), True),\n",
        "        \"  ------\": (lambda x: \"\", True),\n",
        "        \"Overall AUC\": (\n",
        "            lambda x: roc_auc_score(y_true, x), False),\n",
        "        \"AUC difference\": (\n",
        "            lambda x: MetricFrame(metrics=roc_auc_score, y_true=y_true, y_pred=x, sensitive_features=group).difference(method='between_groups'), False),\n",
        "    }\n",
        "    df_dict = {}\n",
        "    for metric_name, (metric_func, use_preds) in metrics_dict.items():\n",
        "        df_dict[metric_name] = [metric_func(preds) if use_preds else metric_func(scores) \n",
        "                                for model_name, (preds, scores) in models_dict.items()]\n",
        "    return pd.DataFrame.from_dict(df_dict, orient=\"index\", columns=models_dict.keys())"
      ],
      "metadata": {
        "id": "hfNN8q8N6WMM"
      },
      "execution_count": 143,
      "outputs": []
    },
    {
      "cell_type": "code",
      "source": [
        "# Metrics\n",
        "models_dict = {\"Light GBM\": (test_preds, test_scores)}\n",
        "get_metrics_df(models_dict, Y_test, sensitive_str_test)"
      ],
      "metadata": {
        "colab": {
          "base_uri": "https://localhost:8080/",
          "height": 457
        },
        "id": "Th5vM9Sq69tY",
        "outputId": "4d9ddad9-3016-45af-c2de-3e03d5babb4d"
      },
      "execution_count": 145,
      "outputs": [
        {
          "output_type": "execute_result",
          "data": {
            "text/plain": [
              "                               Light GBM\n",
              "Overall selection rate          0.278556\n",
              "Demographic parity difference   0.064342\n",
              "Demographic parity ratio        0.788367\n",
              "------                                  \n",
              "Overall balanced error rate     0.228678\n",
              "Balanced error rate difference  0.191117\n",
              " ------                                 \n",
              "False positive rate difference  0.006592\n",
              "False negative rate difference  0.375643\n",
              "Equalized odds difference       0.375643\n",
              "  ------                                \n",
              "Overall AUC                     0.846159\n",
              "AUC difference                  0.202687"
            ],
            "text/html": [
              "\n",
              "  <div id=\"df-8c1871a4-67ee-4c66-b030-1cd471e4355e\">\n",
              "    <div class=\"colab-df-container\">\n",
              "      <div>\n",
              "<style scoped>\n",
              "    .dataframe tbody tr th:only-of-type {\n",
              "        vertical-align: middle;\n",
              "    }\n",
              "\n",
              "    .dataframe tbody tr th {\n",
              "        vertical-align: top;\n",
              "    }\n",
              "\n",
              "    .dataframe thead th {\n",
              "        text-align: right;\n",
              "    }\n",
              "</style>\n",
              "<table border=\"1\" class=\"dataframe\">\n",
              "  <thead>\n",
              "    <tr style=\"text-align: right;\">\n",
              "      <th></th>\n",
              "      <th>Light GBM</th>\n",
              "    </tr>\n",
              "  </thead>\n",
              "  <tbody>\n",
              "    <tr>\n",
              "      <th>Overall selection rate</th>\n",
              "      <td>0.278556</td>\n",
              "    </tr>\n",
              "    <tr>\n",
              "      <th>Demographic parity difference</th>\n",
              "      <td>0.064342</td>\n",
              "    </tr>\n",
              "    <tr>\n",
              "      <th>Demographic parity ratio</th>\n",
              "      <td>0.788367</td>\n",
              "    </tr>\n",
              "    <tr>\n",
              "      <th>------</th>\n",
              "      <td></td>\n",
              "    </tr>\n",
              "    <tr>\n",
              "      <th>Overall balanced error rate</th>\n",
              "      <td>0.228678</td>\n",
              "    </tr>\n",
              "    <tr>\n",
              "      <th>Balanced error rate difference</th>\n",
              "      <td>0.191117</td>\n",
              "    </tr>\n",
              "    <tr>\n",
              "      <th>------</th>\n",
              "      <td></td>\n",
              "    </tr>\n",
              "    <tr>\n",
              "      <th>False positive rate difference</th>\n",
              "      <td>0.006592</td>\n",
              "    </tr>\n",
              "    <tr>\n",
              "      <th>False negative rate difference</th>\n",
              "      <td>0.375643</td>\n",
              "    </tr>\n",
              "    <tr>\n",
              "      <th>Equalized odds difference</th>\n",
              "      <td>0.375643</td>\n",
              "    </tr>\n",
              "    <tr>\n",
              "      <th>------</th>\n",
              "      <td></td>\n",
              "    </tr>\n",
              "    <tr>\n",
              "      <th>Overall AUC</th>\n",
              "      <td>0.846159</td>\n",
              "    </tr>\n",
              "    <tr>\n",
              "      <th>AUC difference</th>\n",
              "      <td>0.202687</td>\n",
              "    </tr>\n",
              "  </tbody>\n",
              "</table>\n",
              "</div>\n",
              "      <button class=\"colab-df-convert\" onclick=\"convertToInteractive('df-8c1871a4-67ee-4c66-b030-1cd471e4355e')\"\n",
              "              title=\"Convert this dataframe to an interactive table.\"\n",
              "              style=\"display:none;\">\n",
              "        \n",
              "  <svg xmlns=\"http://www.w3.org/2000/svg\" height=\"24px\"viewBox=\"0 0 24 24\"\n",
              "       width=\"24px\">\n",
              "    <path d=\"M0 0h24v24H0V0z\" fill=\"none\"/>\n",
              "    <path d=\"M18.56 5.44l.94 2.06.94-2.06 2.06-.94-2.06-.94-.94-2.06-.94 2.06-2.06.94zm-11 1L8.5 8.5l.94-2.06 2.06-.94-2.06-.94L8.5 2.5l-.94 2.06-2.06.94zm10 10l.94 2.06.94-2.06 2.06-.94-2.06-.94-.94-2.06-.94 2.06-2.06.94z\"/><path d=\"M17.41 7.96l-1.37-1.37c-.4-.4-.92-.59-1.43-.59-.52 0-1.04.2-1.43.59L10.3 9.45l-7.72 7.72c-.78.78-.78 2.05 0 2.83L4 21.41c.39.39.9.59 1.41.59.51 0 1.02-.2 1.41-.59l7.78-7.78 2.81-2.81c.8-.78.8-2.07 0-2.86zM5.41 20L4 18.59l7.72-7.72 1.47 1.35L5.41 20z\"/>\n",
              "  </svg>\n",
              "      </button>\n",
              "      \n",
              "  <style>\n",
              "    .colab-df-container {\n",
              "      display:flex;\n",
              "      flex-wrap:wrap;\n",
              "      gap: 12px;\n",
              "    }\n",
              "\n",
              "    .colab-df-convert {\n",
              "      background-color: #E8F0FE;\n",
              "      border: none;\n",
              "      border-radius: 50%;\n",
              "      cursor: pointer;\n",
              "      display: none;\n",
              "      fill: #1967D2;\n",
              "      height: 32px;\n",
              "      padding: 0 0 0 0;\n",
              "      width: 32px;\n",
              "    }\n",
              "\n",
              "    .colab-df-convert:hover {\n",
              "      background-color: #E2EBFA;\n",
              "      box-shadow: 0px 1px 2px rgba(60, 64, 67, 0.3), 0px 1px 3px 1px rgba(60, 64, 67, 0.15);\n",
              "      fill: #174EA6;\n",
              "    }\n",
              "\n",
              "    [theme=dark] .colab-df-convert {\n",
              "      background-color: #3B4455;\n",
              "      fill: #D2E3FC;\n",
              "    }\n",
              "\n",
              "    [theme=dark] .colab-df-convert:hover {\n",
              "      background-color: #434B5C;\n",
              "      box-shadow: 0px 1px 3px 1px rgba(0, 0, 0, 0.15);\n",
              "      filter: drop-shadow(0px 1px 2px rgba(0, 0, 0, 0.3));\n",
              "      fill: #FFFFFF;\n",
              "    }\n",
              "  </style>\n",
              "\n",
              "      <script>\n",
              "        const buttonEl =\n",
              "          document.querySelector('#df-8c1871a4-67ee-4c66-b030-1cd471e4355e button.colab-df-convert');\n",
              "        buttonEl.style.display =\n",
              "          google.colab.kernel.accessAllowed ? 'block' : 'none';\n",
              "\n",
              "        async function convertToInteractive(key) {\n",
              "          const element = document.querySelector('#df-8c1871a4-67ee-4c66-b030-1cd471e4355e');\n",
              "          const dataTable =\n",
              "            await google.colab.kernel.invokeFunction('convertToInteractive',\n",
              "                                                     [key], {});\n",
              "          if (!dataTable) return;\n",
              "\n",
              "          const docLinkHtml = 'Like what you see? Visit the ' +\n",
              "            '<a target=\"_blank\" href=https://colab.research.google.com/notebooks/data_table.ipynb>data table notebook</a>'\n",
              "            + ' to learn more about interactive tables.';\n",
              "          element.innerHTML = '';\n",
              "          dataTable['output_type'] = 'display_data';\n",
              "          await google.colab.output.renderOutput(dataTable, element);\n",
              "          const docLink = document.createElement('div');\n",
              "          docLink.innerHTML = docLinkHtml;\n",
              "          element.appendChild(docLink);\n",
              "        }\n",
              "      </script>\n",
              "    </div>\n",
              "  </div>\n",
              "  "
            ]
          },
          "metadata": {},
          "execution_count": 145
        }
      ]
    },
    {
      "cell_type": "markdown",
      "source": [
        "While we once again see that overall performance is quite good, performance in the different subgroups point towards issues, though still rather modest. In the next section we'll explore a technique that can mitigate the impact on our model."
      ],
      "metadata": {
        "id": "3BuD1s5QDXqc"
      }
    },
    {
      "cell_type": "markdown",
      "source": [
        "## 5.2 Mitigation"
      ],
      "metadata": {
        "id": "1wKaQnFoAmbr"
      }
    },
    {
      "cell_type": "markdown",
      "source": [
        "We'll now use a Threshold optimizer procedure to ensure that the equalized odds are optimized. This essentially means that the model is adjusted in such a way that it performs equally well in all groups of the sensitive feature.  This algorithm finds a suitable threshold for the scores (class probabilities) produced by the lightgbm model by optimizing the accuracy rate under the constraint that the equalized odds difference (on training data) is zero. Since our goal is to optimize balanced accuracy, we resample the training data to have the same number of positive and negative examples. This means that ThresholdOptimizer is effectively optimizing balanced accuracy on the original data."
      ],
      "metadata": {
        "id": "DoMDccm0GBpQ"
      }
    },
    {
      "cell_type": "code",
      "source": [
        "postprocess_est = ThresholdOptimizer(\n",
        "    estimator=model,\n",
        "    constraints=\"equalized_odds\",\n",
        "    prefit=True)\n",
        "# Balanced data set is obtained by sampling the same number of points from the majority class (Y=0)\n",
        "# as there are points in the minority class (Y=1)\n",
        "balanced_idx1 = df_train[Y_train==1].index\n",
        "pp_train_idx = balanced_idx1.union(Y_train[Y_train==0].sample(n=balanced_idx1.size, random_state=1234).index)\n",
        "df_train_balanced = df_train.loc[pp_train_idx, :]\n",
        "Y_train_balanced = Y_train.loc[pp_train_idx]\n",
        "sensitive_train_balanced = sensitive_train.loc[pp_train_idx]\n",
        "postprocess_est.fit(df_train_balanced, Y_train_balanced, sensitive_features=sensitive_train_balanced)\n",
        "postprocess_preds = postprocess_est.predict(df_test, sensitive_features=sensitive_test)\n",
        "models_dict = {\"Unmitigated\": (test_preds, test_scores),\n",
        "              \"ThresholdOptimizer\": (postprocess_preds, postprocess_preds)}\n",
        "get_metrics_df(models_dict, Y_test, sensitive_str_test)"
      ],
      "metadata": {
        "colab": {
          "base_uri": "https://localhost:8080/",
          "height": 727
        },
        "id": "gduSXIjJ7CtB",
        "outputId": "2f2fc576-e84c-431e-8993-e63c5b5c948b"
      },
      "execution_count": 151,
      "outputs": [
        {
          "output_type": "stream",
          "name": "stderr",
          "text": [
            "/usr/local/lib/python3.7/dist-packages/fairlearn/postprocessing/_threshold_optimizer.py:275: FutureWarning: 'predict_method' default value is changed from 'predict' to 'auto'. Explicitly pass `predict_method='predict' to replicate the old behavior, or pass `predict_method='auto' or other valid values to silence this warning.\n",
            "  FutureWarning,\n",
            "/usr/local/lib/python3.7/dist-packages/fairlearn/postprocessing/_threshold_optimizer.py:309: UserWarning: The value of `prefit` is `True`, but `check_is_fitted` raised `NotFittedError` on the base estimator.\n",
            "\n",
            "If the provided base estimator has been fitted, this could mean that (1) its implementation does not conform to the sklearn estimator API, or (2) the enclosing ThresholdOptimizer has been cloned (for instance by `sklearn.model_selection.cross_validate`).\n",
            "\n",
            "In case (1), please file an issue with the base estimator developers, but continue to use the enclosing ThresholdOptimizer with `prefit=True`. In case (2), please use `prefit=False`.\n",
            "  type(self).__name__\n",
            "/usr/local/lib/python3.7/dist-packages/fairlearn/postprocessing/_interpolated_thresholder.py:115: UserWarning: The value of `prefit` is `True`, but `check_is_fitted` raised `NotFittedError` on the base estimator.\n",
            "\n",
            "If the provided base estimator has been fitted, this could mean that (1) its implementation does not conform to the sklearn estimator API, or (2) the enclosing InterpolatedThresholder has been cloned (for instance by `sklearn.model_selection.cross_validate`).\n",
            "\n",
            "In case (1), please file an issue with the base estimator developers, but continue to use the enclosing InterpolatedThresholder with `prefit=True`. In case (2), please use `prefit=False`.\n",
            "  warn(BASE_ESTIMATOR_NOT_FITTED_WARNING.format(type(self).__name__))\n"
          ]
        },
        {
          "output_type": "execute_result",
          "data": {
            "text/plain": [
              "                               Unmitigated ThresholdOptimizer\n",
              "Overall selection rate            0.278556              0.095\n",
              "Demographic parity difference     0.064342            0.01046\n",
              "Demographic parity ratio          0.788367            0.89676\n",
              "------                                                       \n",
              "Overall balanced error rate       0.228678             0.3946\n",
              "Balanced error rate difference    0.191117           0.009876\n",
              " ------                                                      \n",
              "False positive rate difference    0.006592           0.008889\n",
              "False negative rate difference    0.375643           0.010863\n",
              "Equalized odds difference         0.375643           0.010863\n",
              "  ------                                                     \n",
              "Overall AUC                       0.846159             0.6054\n",
              "AUC difference                    0.202687           0.009876"
            ],
            "text/html": [
              "\n",
              "  <div id=\"df-661e78af-63bc-472a-83c9-6bcb80822fce\">\n",
              "    <div class=\"colab-df-container\">\n",
              "      <div>\n",
              "<style scoped>\n",
              "    .dataframe tbody tr th:only-of-type {\n",
              "        vertical-align: middle;\n",
              "    }\n",
              "\n",
              "    .dataframe tbody tr th {\n",
              "        vertical-align: top;\n",
              "    }\n",
              "\n",
              "    .dataframe thead th {\n",
              "        text-align: right;\n",
              "    }\n",
              "</style>\n",
              "<table border=\"1\" class=\"dataframe\">\n",
              "  <thead>\n",
              "    <tr style=\"text-align: right;\">\n",
              "      <th></th>\n",
              "      <th>Unmitigated</th>\n",
              "      <th>ThresholdOptimizer</th>\n",
              "    </tr>\n",
              "  </thead>\n",
              "  <tbody>\n",
              "    <tr>\n",
              "      <th>Overall selection rate</th>\n",
              "      <td>0.278556</td>\n",
              "      <td>0.095</td>\n",
              "    </tr>\n",
              "    <tr>\n",
              "      <th>Demographic parity difference</th>\n",
              "      <td>0.064342</td>\n",
              "      <td>0.01046</td>\n",
              "    </tr>\n",
              "    <tr>\n",
              "      <th>Demographic parity ratio</th>\n",
              "      <td>0.788367</td>\n",
              "      <td>0.89676</td>\n",
              "    </tr>\n",
              "    <tr>\n",
              "      <th>------</th>\n",
              "      <td></td>\n",
              "      <td></td>\n",
              "    </tr>\n",
              "    <tr>\n",
              "      <th>Overall balanced error rate</th>\n",
              "      <td>0.228678</td>\n",
              "      <td>0.3946</td>\n",
              "    </tr>\n",
              "    <tr>\n",
              "      <th>Balanced error rate difference</th>\n",
              "      <td>0.191117</td>\n",
              "      <td>0.009876</td>\n",
              "    </tr>\n",
              "    <tr>\n",
              "      <th>------</th>\n",
              "      <td></td>\n",
              "      <td></td>\n",
              "    </tr>\n",
              "    <tr>\n",
              "      <th>False positive rate difference</th>\n",
              "      <td>0.006592</td>\n",
              "      <td>0.008889</td>\n",
              "    </tr>\n",
              "    <tr>\n",
              "      <th>False negative rate difference</th>\n",
              "      <td>0.375643</td>\n",
              "      <td>0.010863</td>\n",
              "    </tr>\n",
              "    <tr>\n",
              "      <th>Equalized odds difference</th>\n",
              "      <td>0.375643</td>\n",
              "      <td>0.010863</td>\n",
              "    </tr>\n",
              "    <tr>\n",
              "      <th>------</th>\n",
              "      <td></td>\n",
              "      <td></td>\n",
              "    </tr>\n",
              "    <tr>\n",
              "      <th>Overall AUC</th>\n",
              "      <td>0.846159</td>\n",
              "      <td>0.6054</td>\n",
              "    </tr>\n",
              "    <tr>\n",
              "      <th>AUC difference</th>\n",
              "      <td>0.202687</td>\n",
              "      <td>0.009876</td>\n",
              "    </tr>\n",
              "  </tbody>\n",
              "</table>\n",
              "</div>\n",
              "      <button class=\"colab-df-convert\" onclick=\"convertToInteractive('df-661e78af-63bc-472a-83c9-6bcb80822fce')\"\n",
              "              title=\"Convert this dataframe to an interactive table.\"\n",
              "              style=\"display:none;\">\n",
              "        \n",
              "  <svg xmlns=\"http://www.w3.org/2000/svg\" height=\"24px\"viewBox=\"0 0 24 24\"\n",
              "       width=\"24px\">\n",
              "    <path d=\"M0 0h24v24H0V0z\" fill=\"none\"/>\n",
              "    <path d=\"M18.56 5.44l.94 2.06.94-2.06 2.06-.94-2.06-.94-.94-2.06-.94 2.06-2.06.94zm-11 1L8.5 8.5l.94-2.06 2.06-.94-2.06-.94L8.5 2.5l-.94 2.06-2.06.94zm10 10l.94 2.06.94-2.06 2.06-.94-2.06-.94-.94-2.06-.94 2.06-2.06.94z\"/><path d=\"M17.41 7.96l-1.37-1.37c-.4-.4-.92-.59-1.43-.59-.52 0-1.04.2-1.43.59L10.3 9.45l-7.72 7.72c-.78.78-.78 2.05 0 2.83L4 21.41c.39.39.9.59 1.41.59.51 0 1.02-.2 1.41-.59l7.78-7.78 2.81-2.81c.8-.78.8-2.07 0-2.86zM5.41 20L4 18.59l7.72-7.72 1.47 1.35L5.41 20z\"/>\n",
              "  </svg>\n",
              "      </button>\n",
              "      \n",
              "  <style>\n",
              "    .colab-df-container {\n",
              "      display:flex;\n",
              "      flex-wrap:wrap;\n",
              "      gap: 12px;\n",
              "    }\n",
              "\n",
              "    .colab-df-convert {\n",
              "      background-color: #E8F0FE;\n",
              "      border: none;\n",
              "      border-radius: 50%;\n",
              "      cursor: pointer;\n",
              "      display: none;\n",
              "      fill: #1967D2;\n",
              "      height: 32px;\n",
              "      padding: 0 0 0 0;\n",
              "      width: 32px;\n",
              "    }\n",
              "\n",
              "    .colab-df-convert:hover {\n",
              "      background-color: #E2EBFA;\n",
              "      box-shadow: 0px 1px 2px rgba(60, 64, 67, 0.3), 0px 1px 3px 1px rgba(60, 64, 67, 0.15);\n",
              "      fill: #174EA6;\n",
              "    }\n",
              "\n",
              "    [theme=dark] .colab-df-convert {\n",
              "      background-color: #3B4455;\n",
              "      fill: #D2E3FC;\n",
              "    }\n",
              "\n",
              "    [theme=dark] .colab-df-convert:hover {\n",
              "      background-color: #434B5C;\n",
              "      box-shadow: 0px 1px 3px 1px rgba(0, 0, 0, 0.15);\n",
              "      filter: drop-shadow(0px 1px 2px rgba(0, 0, 0, 0.3));\n",
              "      fill: #FFFFFF;\n",
              "    }\n",
              "  </style>\n",
              "\n",
              "      <script>\n",
              "        const buttonEl =\n",
              "          document.querySelector('#df-661e78af-63bc-472a-83c9-6bcb80822fce button.colab-df-convert');\n",
              "        buttonEl.style.display =\n",
              "          google.colab.kernel.accessAllowed ? 'block' : 'none';\n",
              "\n",
              "        async function convertToInteractive(key) {\n",
              "          const element = document.querySelector('#df-661e78af-63bc-472a-83c9-6bcb80822fce');\n",
              "          const dataTable =\n",
              "            await google.colab.kernel.invokeFunction('convertToInteractive',\n",
              "                                                     [key], {});\n",
              "          if (!dataTable) return;\n",
              "\n",
              "          const docLinkHtml = 'Like what you see? Visit the ' +\n",
              "            '<a target=\"_blank\" href=https://colab.research.google.com/notebooks/data_table.ipynb>data table notebook</a>'\n",
              "            + ' to learn more about interactive tables.';\n",
              "          element.innerHTML = '';\n",
              "          dataTable['output_type'] = 'display_data';\n",
              "          await google.colab.output.renderOutput(dataTable, element);\n",
              "          const docLink = document.createElement('div');\n",
              "          docLink.innerHTML = docLinkHtml;\n",
              "          element.appendChild(docLink);\n",
              "        }\n",
              "      </script>\n",
              "    </div>\n",
              "  </div>\n",
              "  "
            ]
          },
          "metadata": {},
          "execution_count": 151
        }
      ]
    },
    {
      "cell_type": "markdown",
      "source": [
        "# 6 Conclusion"
      ],
      "metadata": {
        "id": "THzyPikZJfWT"
      }
    },
    {
      "cell_type": "markdown",
      "source": [
        "We observe a clear improvement in fairness, as expected! But in order to improve fairness we had to compromise on overall model performance. Notice that the overall AUC went from 0,84 to 0,60. This kind of trade-off is inherent to fairness mitigation techniques. Of course this is a huge difference, but that is due to the artifical nature of this toy example. Nonetheless, an important consideration will always have to be done: how much of my model performance am I willing to give up to increase fairness? \n",
        "\n",
        "Grid search techniques exist to map out this trade-off. Based on grid search results a debate between a machine learning engineer/date scientist and their business partner is needed to make the decision."
      ],
      "metadata": {
        "id": "FcU0ouSaHseL"
      }
    },
    {
      "cell_type": "code",
      "source": [],
      "metadata": {
        "id": "KEOCRn9kDz8z"
      },
      "execution_count": null,
      "outputs": []
    }
  ]
}